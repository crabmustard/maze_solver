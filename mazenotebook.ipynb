{
 "cells": [
  {
   "cell_type": "code",
   "execution_count": 1,
   "metadata": {},
   "outputs": [],
   "source": [
    "testlist = []\n",
    "for i in range(3):\n",
    "    testlist2 = []\n",
    "    for j in range(6):\n",
    "        testlist2.append(f'{i} {j}')\n",
    "    testlist.append(testlist2)"
   ]
  },
  {
   "cell_type": "code",
   "execution_count": 2,
   "metadata": {},
   "outputs": [
    {
     "data": {
      "text/plain": [
       "[['0 0', '0 1', '0 2', '0 3', '0 4', '0 5'],\n",
       " ['1 0', '1 1', '1 2', '1 3', '1 4', '1 5'],\n",
       " ['2 0', '2 1', '2 2', '2 3', '2 4', '2 5']]"
      ]
     },
     "execution_count": 2,
     "metadata": {},
     "output_type": "execute_result"
    }
   ],
   "source": [
    "testlist\n"
   ]
  }
 ],
 "metadata": {
  "kernelspec": {
   "display_name": "Python 3",
   "language": "python",
   "name": "python3"
  },
  "language_info": {
   "codemirror_mode": {
    "name": "ipython",
    "version": 3
   },
   "file_extension": ".py",
   "mimetype": "text/x-python",
   "name": "python",
   "nbconvert_exporter": "python",
   "pygments_lexer": "ipython3",
   "version": "3.12.0"
  }
 },
 "nbformat": 4,
 "nbformat_minor": 2
}
